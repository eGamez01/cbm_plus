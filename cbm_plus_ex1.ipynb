{
  "nbformat": 4,
  "nbformat_minor": 0,
  "metadata": {
    "colab": {
      "provenance": [],
      "include_colab_link": true
    },
    "kernelspec": {
      "name": "python3",
      "display_name": "Python 3"
    },
    "language_info": {
      "name": "python"
    }
  },
  "cells": [
    {
      "cell_type": "markdown",
      "metadata": {
        "id": "view-in-github",
        "colab_type": "text"
      },
      "source": [
        "<a href=\"https://colab.research.google.com/github/eGamez01/cbm_plus/blob/main/cbm_plus_ex1.ipynb\" target=\"_parent\"><img src=\"https://colab.research.google.com/assets/colab-badge.svg\" alt=\"Open In Colab\"/></a>"
      ]
    },
    {
      "cell_type": "code",
      "source": [
        "!git clone https://github.com/eGamez01/cbm_plus.git # Replace with the actual URL of your repository"
      ],
      "metadata": {
        "id": "HlrNH68KWwhN"
      },
      "execution_count": null,
      "outputs": []
    },
    {
      "cell_type": "code",
      "metadata": {
        "id": "da3aa4f5"
      },
      "source": [
        "# -----------------------------------------------------------\n",
        "# 0. Imports\n",
        "# -----------------------------------------------------------\n",
        "from pathlib import Path\n",
        "import numpy as np, pandas as pd, matplotlib.pyplot as plt\n",
        "from scipy.stats import weibull_min, gamma, kstest\n",
        "\n",
        "# -----------------------------------------------------------\n",
        "# 1. Point to your local folder  (edit as needed)\n",
        "# -----------------------------------------------------------\n",
        "DATA_DIR = Path(r\"/content/cbm_plus/data/CMaps\")          # <— change me\n",
        "SCENARIO  = \"FD001\"                       # \"FD001\" | \"FD002\" | \"FD003\" | \"FD004\"\n",
        "train_path = DATA_DIR / f\"train_{SCENARIO}.txt\"\n",
        "\n",
        "# Column layout for every C-MAPSS file: 2 ID cols + 3 op settings + 21 sensors\n",
        "cols = ([\"unit\", \"cycle\"] +\n",
        "        [f\"op_setting_{i}\" for i in range(1, 4)] +\n",
        "        [f\"s{i}\"           for i in range(1, 22)])\n",
        "\n",
        "# -----------------------------------------------------------\n",
        "# 2. Load the training data\n",
        "# -----------------------------------------------------------\n",
        "train_df = pd.read_csv(train_path, delim_whitespace=True, header=None, names=cols)\n",
        "print(f\"Loaded {train_df.shape[0]:,} rows from {train_path.name}\")\n",
        "\n",
        "# -----------------------------------------------------------\n",
        "# 3. Derive each engine’s life (cycles-to-failure)\n",
        "# -----------------------------------------------------------\n",
        "lifes = train_df.groupby(\"unit\")[\"cycle\"].max().to_numpy()\n",
        "print(f\"{lifes.size} engines – life range {lifes.min()}-{lifes.max()} cycles\")\n",
        "\n",
        "# -----------------------------------------------------------\n",
        "# 4a. Weibull (2-param) fit\n",
        "# -----------------------------------------------------------\n",
        "beta, _, eta = weibull_min.fit(lifes, floc=0)        # shape, loc=0, scale\n",
        "# 4b. Gamma (2-param) fit\n",
        "k_gamma, _, theta_gamma = gamma.fit(lifes, floc=0)   # shape, loc=0, scale\n",
        "\n",
        "# -----------------------------------------------------------\n",
        "# 5. Optional: log-likelihood & AIC for quick comparison\n",
        "# -----------------------------------------------------------\n",
        "ll_weib  = weibull_min.logpdf(lifes, beta,      0, eta        ).sum()\n",
        "ll_gamma = gamma      .logpdf(lifes, k_gamma,   0, theta_gamma).sum()\n",
        "aic_weib  = 2*2 - 2*ll_weib       # 2 parameters (β,η)\n",
        "aic_gamma = 2*2 - 2*ll_gamma      # 2 parameters (k,θ)\n",
        "\n",
        "print(\"\\n— Parameter fits —\")\n",
        "print(f\"Weibull  : β={beta:.3f},  η={eta:.3f}\")\n",
        "print(f\"Gamma    : k={k_gamma:.3f}, θ={theta_gamma:.3f}\")\n",
        "print(\"\\n— Model scores —\")\n",
        "print(f\"Weibull  LL={ll_weib:.2f},  AIC={aic_weib:.2f}\")\n",
        "print(f\"Gamma    LL={ll_gamma:.2f}, AIC={aic_gamma:.2f}\")\n",
        "\n",
        "# -----------------------------------------------------------\n",
        "# 6. Build PDF & Reliability curves for overlay\n",
        "# -----------------------------------------------------------\n",
        "t = np.linspace(0, lifes.max()*1.1, 400)\n",
        "\n",
        "pdf_weib  = weibull_min.pdf(t,  beta,    0, eta)\n",
        "pdf_gamma = gamma.pdf(       t, k_gamma, 0, theta_gamma)\n",
        "\n",
        "rel_weib  = 1 - weibull_min.cdf(t, beta,    0, eta)\n",
        "rel_gamma = 1 - gamma.cdf(       t, k_gamma, 0, theta_gamma)\n",
        "\n",
        "# -----------------------------------------------------------\n",
        "# 7. Plot PDF over histogram\n",
        "# -----------------------------------------------------------\n",
        "plt.figure(figsize=(9,5))\n",
        "plt.hist(lifes, bins=12, density=True, alpha=.35, label=\"Empirical lives\")\n",
        "plt.plot(t, pdf_weib,  lw=2, label=\"Weibull PDF\")\n",
        "plt.plot(t, pdf_gamma, lw=2, label=\"Gamma PDF\", ls=\"--\")\n",
        "plt.xlabel(\"Cycles-to-failure\");  plt.ylabel(\"Probability density\")\n",
        "plt.title(f\"Weibull vs Gamma – C-MAPSS {SCENARIO}\")\n",
        "plt.legend()\n",
        "plt.show()\n",
        "\n",
        "# -----------------------------------------------------------\n",
        "# 8. Plot reliability curves on same axes\n",
        "# -----------------------------------------------------------\n",
        "plt.figure(figsize=(9,5))\n",
        "plt.plot(t, rel_weib,  lw=2, label=\"Weibull Reliability\")\n",
        "plt.plot(t, rel_gamma, lw=2, label=\"Gamma Reliability\", ls=\"--\")\n",
        "plt.xlabel(\"Cycles\");  plt.ylabel(\"Reliability  R(t)\")\n",
        "plt.title(\"Reliability curves comparison\")\n",
        "plt.ylim(0, 1.05); plt.legend()\n",
        "plt.show()"
      ],
      "execution_count": null,
      "outputs": []
    }
  ]
}